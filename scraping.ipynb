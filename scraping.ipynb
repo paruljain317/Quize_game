{
 "cells": [
  {
   "cell_type": "code",
   "execution_count": 1,
   "metadata": {},
   "outputs": [],
   "source": [
    "import bs4\n",
    "\n",
    "from urllib.request import urlopen as uReq\n",
    "\n",
    "from bs4 import BeautifulSoup as soup\n",
    "\n",
    "url1='https://www.examsbook.com/basic-gk-general-knowledge-questions-answers'"
   ]
  },
  {
   "cell_type": "code",
   "execution_count": 2,
   "metadata": {},
   "outputs": [],
   "source": [
    "uClient = uReq(url1)\n",
    "\n",
    "page_html = uClient.read()\n",
    "\n",
    "uClient.close()\n",
    "\n",
    "page_soup = soup(page_html, \"html.parser\")"
   ]
  },
  {
   "cell_type": "code",
   "execution_count": 3,
   "metadata": {},
   "outputs": [],
   "source": [
    "container1=page_soup.findAll(\"p\")"
   ]
  },
  {
   "cell_type": "code",
   "execution_count": 4,
   "metadata": {},
   "outputs": [],
   "source": [
    "questions=[]\n",
    "options=[]\n",
    "optionA=[]\n",
    "optionB=[]\n",
    "optionC=[]\n",
    "optionD=[]\n",
    "answers=[]\n",
    "count=34\n",
    "i=0\n",
    "for item in container1[34:55:5]:\n",
    "    i=i+1\n",
    "    questions.append(container1[count].text.replace('\\xa0','').replace('{}.'.format(i),''))\n",
    "    options=container1[count+1].text.split('\\n')\n",
    "    optionA.append(options[0])\n",
    "    optionB.append(options[1])\n",
    "    optionC.append(options[2])\n",
    "    optionD.append(options[3])\n",
    "    answers.append(container1[count+3].text.replace('Ans . \\xa0 ','').replace('\\xa0','').replace(' ',''))\n",
    "    count=count+5"
   ]
  },
  {
   "cell_type": "code",
   "execution_count": 6,
   "metadata": {},
   "outputs": [],
   "source": [
    "count=60\n",
    "i=5\n",
    "for item in container1[60:81:5]:\n",
    "    i=i+1\n",
    "    questions.append(container1[count].text.replace('\\xa0','').replace('{}.'.format(i),''))\n",
    "    options=container1[count+1].text.split('\\n')\n",
    "    optionA.append(options[0])\n",
    "    optionB.append(options[1])\n",
    "    optionC.append(options[2])\n",
    "    optionD.append(options[3])\n",
    "    answers.append(container1[count+3].text.replace('Ans . \\xa0 ','').replace('\\xa0','').replace(' ',''))\n",
    "    count=count+5"
   ]
  },
  {
   "cell_type": "code",
   "execution_count": 7,
   "metadata": {},
   "outputs": [],
   "source": [
    "url2='https://www.examsbook.com/basic-gk-general-knowledge-questions-answers/2'"
   ]
  },
  {
   "cell_type": "code",
   "execution_count": 8,
   "metadata": {},
   "outputs": [],
   "source": [
    "uClient = uReq(url2)\n",
    "page_html = uClient.read()\n",
    "uClient.close()\n",
    "page_soup = soup(page_html, \"html.parser\")\n",
    "\n",
    "container2=page_soup.findAll(\"p\")"
   ]
  },
  {
   "cell_type": "code",
   "execution_count": 9,
   "metadata": {},
   "outputs": [],
   "source": [
    "count=22\n",
    "i=11\n",
    "for item in container2[22:79:7]:\n",
    "    i=i+1\n",
    "    questions.append(container2[count].text.replace('\\xa0','').replace('Q.{}'.format(i),''))\n",
    "    optionA.append(container2[count+1].text)\n",
    "    optionB.append(container2[count+2].text)\n",
    "    optionC.append(container2[count+3].text)\n",
    "    optionD.append(container2[count+4].text)\n",
    "    answers.append(container2[count+6].text.replace('Ans . ','').replace('\\xa0','').replace(' ',''))\n",
    "    count=count+7"
   ]
  },
  {
   "cell_type": "code",
   "execution_count": 11,
   "metadata": {},
   "outputs": [],
   "source": [
    "url3='https://www.examsbook.com/basic-gk-general-knowledge-questions-answers/3'"
   ]
  },
  {
   "cell_type": "code",
   "execution_count": 12,
   "metadata": {},
   "outputs": [],
   "source": [
    "uClient = uReq(url3)\n",
    "page_html = uClient.read()\n",
    "uClient.close()\n",
    "page_soup = soup(page_html, \"html.parser\")\n",
    "\n",
    "container3=page_soup.findAll(\"p\")"
   ]
  },
  {
   "cell_type": "code",
   "execution_count": 13,
   "metadata": {},
   "outputs": [],
   "source": [
    "count=6\n",
    "i=20\n",
    "for item in container3[6:61:6]:\n",
    "    i=i+1\n",
    "    questions.append(container3[count].text.replace('\\xa0','').replace('{}.'.format(i),''))\n",
    "    options=container3[count+1].text.replace('\\xa0','').split('\\n')\n",
    "    optionA.append(options[0])\n",
    "    optionB.append(options[1])\n",
    "    optionC.append(options[2])\n",
    "    optionD.append(options[3])\n",
    "    answers.append(container3[count+3].text.replace('Ans .','').replace('\\xa0','').replace(' ',''))\n",
    "    count=count+6"
   ]
  },
  {
   "cell_type": "code",
   "execution_count": 14,
   "metadata": {},
   "outputs": [],
   "source": [
    "url4='https://www.examsbook.com/basic-gk-general-knowledge-questions-answers/4'"
   ]
  },
  {
   "cell_type": "code",
   "execution_count": 15,
   "metadata": {},
   "outputs": [],
   "source": [
    "uClient = uReq(url4)\n",
    "page_html = uClient.read()\n",
    "uClient.close()\n",
    "page_soup = soup(page_html, \"html.parser\")\n",
    "\n",
    "container4=page_soup.findAll(\"p\")"
   ]
  },
  {
   "cell_type": "code",
   "execution_count": 16,
   "metadata": {},
   "outputs": [],
   "source": [
    "count=19\n",
    "i=32\n",
    "for item in container4[19:40:5]:\n",
    "    i=i+1\n",
    "    questions.append(container4[count].text.replace('\\xa0','').replace('{}.'.format(i),''))\n",
    "    options=container4[count+1].text.replace('\\xa0','').split('\\n')\n",
    "    optionA.append(options[0])\n",
    "    optionB.append(options[1])\n",
    "    optionC.append(options[2])\n",
    "    optionD.append(options[3])\n",
    "    answers.append(container4[count+3].text.replace('Ans .','').replace('\\xa0','').replace(' ',''))\n",
    "    count=count+5"
   ]
  },
  {
   "cell_type": "code",
   "execution_count": 17,
   "metadata": {},
   "outputs": [],
   "source": [
    "url5='https://www.examsbook.com/basic-gk-general-knowledge-questions-answers/5'"
   ]
  },
  {
   "cell_type": "code",
   "execution_count": 18,
   "metadata": {},
   "outputs": [],
   "source": [
    "uClient = uReq(url5)\n",
    "page_html = uClient.read()\n",
    "uClient.close()\n",
    "page_soup = soup(page_html, \"html.parser\")\n",
    "\n",
    "container5=page_soup.findAll(\"p\")"
   ]
  },
  {
   "cell_type": "code",
   "execution_count": 19,
   "metadata": {},
   "outputs": [],
   "source": [
    "count=7\n",
    "i=40\n",
    "for item in container5[7:38:5]:\n",
    "    i=i+1\n",
    "    questions.append(container5[count].text.replace('\\xa0','').replace('\\n','').replace('{}.'.format(i),''))\n",
    "    options=container5[count+1].text.replace('\\xa0','').split('\\n')\n",
    "    optionA.append(options[0])\n",
    "    optionB.append(options[1])\n",
    "    optionC.append(options[2])\n",
    "    optionD.append(options[3])\n",
    "    answers.append(container5[count+3].text.replace('Ans .','').replace('\\xa0','').replace(' ',''))\n",
    "    count=count+5"
   ]
  },
  {
   "cell_type": "code",
   "execution_count": 27,
   "metadata": {},
   "outputs": [
    {
     "data": {
      "text/plain": [
       "41"
      ]
     },
     "execution_count": 27,
     "metadata": {},
     "output_type": "execute_result"
    }
   ],
   "source": [
    "len(answers)"
   ]
  },
  {
   "cell_type": "code",
   "execution_count": 21,
   "metadata": {},
   "outputs": [],
   "source": [
    "import pandas as pd"
   ]
  },
  {
   "cell_type": "code",
   "execution_count": 24,
   "metadata": {},
   "outputs": [],
   "source": [
    "df = pd.DataFrame({'Questions': questions, 'optionA': optionA, 'optionB': optionB, 'optionC': optionC, 'optionD': optionD, 'Answer':answers })\n",
    "df.to_csv('ques.csv')"
   ]
  }
 ],
 "metadata": {
  "kernelspec": {
   "display_name": "Python 3",
   "language": "python",
   "name": "python3"
  },
  "language_info": {
   "codemirror_mode": {
    "name": "ipython",
    "version": 3
   },
   "file_extension": ".py",
   "mimetype": "text/x-python",
   "name": "python",
   "nbconvert_exporter": "python",
   "pygments_lexer": "ipython3",
   "version": "3.6.5"
  }
 },
 "nbformat": 4,
 "nbformat_minor": 2
}
